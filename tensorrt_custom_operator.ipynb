{
 "cells": [
  {
   "cell_type": "markdown",
   "source": [
    "### 自定义算子"
   ],
   "metadata": {
    "collapsed": false
   },
   "execution_count": 1
  },
  {
   "cell_type": "code",
   "execution_count": 3,
   "outputs": [],
   "source": [
    "import torch\n",
    "from torch import nn\n",
    "\n",
    "\n",
    "def custom_relu(x):\n",
    "    return torch.clamp(x, min=0.0)\n",
    "\n",
    "\n",
    "def custom_shift(x, bias):\n",
    "    x = x.cpu().detach().numpy()\n",
    "    x += bias\n",
    "    x = torch.from_numpy(x).cuda()\n",
    "    return x\n",
    "\n",
    "\n",
    "class CustomOperator(nn.Module):\n",
    "\n",
    "    def __init__(self, bias):\n",
    "        super(CustomOperator, self).__init__()\n",
    "        self.bias = bias\n",
    "\n",
    "    def forward(self, x):\n",
    "        return custom_shift(x, self.bias)"
   ],
   "metadata": {
    "collapsed": false
   }
  },
  {
   "cell_type": "markdown",
   "source": [
    "### 使用自定义算子"
   ],
   "metadata": {
    "collapsed": false
   }
  },
  {
   "cell_type": "code",
   "execution_count": 58,
   "outputs": [],
   "source": [
    "class CNN(nn.Module):\n",
    "\n",
    "    def __init__(self):\n",
    "        super(CNN, self).__init__()\n",
    "\n",
    "        self.conv1 = nn.Sequential(\n",
    "            nn.Conv2d(\n",
    "                in_channels=1,\n",
    "                out_channels=16,\n",
    "                kernel_size=5,\n",
    "                stride=1,\n",
    "                padding=2,\n",
    "            ),\n",
    "            nn.ReLU(),\n",
    "            nn.MaxPool2d(kernel_size=2, stride=2),\n",
    "        )\n",
    "\n",
    "        self.conv2 = nn.Sequential(\n",
    "            nn.Conv2d(\n",
    "                in_channels=16,\n",
    "                out_channels=32,\n",
    "                kernel_size=5,\n",
    "                stride=1,\n",
    "                padding=2,\n",
    "            ),\n",
    "            nn.ReLU(),\n",
    "            nn.MaxPool2d(kernel_size=2, stride=2),\n",
    "        )\n",
    "\n",
    "        # self.custom_op = CustomOperator(bias=0.0004)\n",
    "        self.out = nn.Linear(32 * 7 * 7, 10)\n",
    "\n",
    "    def forward(self, x):\n",
    "        x = self.conv1(x)\n",
    "        x = self.conv2(x)\n",
    "        # x = self.custom_op(x)\n",
    "        x = x.view(x.size(0), -1)\n",
    "        return self.out(x)\n"
   ],
   "metadata": {
    "collapsed": false
   }
  },
  {
   "cell_type": "markdown",
   "source": [
    "### 模拟模型训练"
   ],
   "metadata": {
    "collapsed": false
   }
  },
  {
   "cell_type": "code",
   "execution_count": 60,
   "outputs": [
    {
     "name": "stderr",
     "output_type": "stream",
     "text": [
      "200it [00:00, 318.75it/s]\n"
     ]
    }
   ],
   "source": [
    "from tqdm import tqdm\n",
    "\n",
    "training_data_x = torch.randn((200, 1, 1, 28, 28)).cuda()\n",
    "training_data_y = torch.randint(0, 9, [200, 1]).cuda()\n",
    "\n",
    "model = CNN().cuda()\n",
    "learning_rate = 0.01\n",
    "optimizer = torch.optim.Adam(model.parameters(), lr=learning_rate)\n",
    "loss_func = nn.CrossEntropyLoss()\n",
    "\n",
    "for data in tqdm(zip(training_data_x, training_data_y)):\n",
    "    x, y = data\n",
    "    # x = torch.unsqueeze(x, dim=0)\n",
    "    # y = torch.unsqueeze(y, dim=0)\n",
    "    output = model(x)\n",
    "    loss = loss_func(output, y)\n",
    "    optimizer.zero_grad()  # 清除梯度参数\n",
    "    loss.backward()  # 计算梯度\n",
    "    optimizer.step()  # 应用梯度\n",
    "\n",
    "torch.save(model.cpu().state_dict(), './tensorrt_custom_operator.pt')"
   ],
   "metadata": {
    "collapsed": false
   }
  },
  {
   "cell_type": "markdown",
   "source": [
    "### 模型转ONNX"
   ],
   "metadata": {
    "collapsed": false
   }
  },
  {
   "cell_type": "code",
   "execution_count": 61,
   "outputs": [],
   "source": [
    "weights = './tensorrt_custom_operator.pt'\n",
    "model = CNN().eval()\n",
    "weights_dict = torch.load(weights)\n",
    "model.load_state_dict(weights_dict)\n",
    "\n",
    "for m in model.modules():\n",
    "    module_type = type(m)\n",
    "    if module_type in (nn.ReLU, nn.ReLU6, nn.SiLU, nn.Hardswish, nn.LeakyReLU):\n",
    "        m.inplace = True\n",
    "    elif module_type is nn.Conv2d:\n",
    "        m._non_persistent_buffers_set = set()\n",
    "\n",
    "model.cuda()\n",
    "\n",
    "onnx_file = './tensorrt_custom_operator.onnx'\n",
    "dummy_input = torch.randn([1, 1, 28, 28]).cuda()\n",
    "torch.onnx.export(\n",
    "    model=model,\n",
    "    args=dummy_input,\n",
    "    f=onnx_file,\n",
    "    verbose=False,\n",
    "    opset_version=12,\n",
    "    training=torch.onnx.TrainingMode.EVAL,\n",
    "    do_constant_folding=True,\n",
    "    input_names=['input'],\n",
    "    output_names=['output'],\n",
    "    dynamic_axes={\n",
    "        'input': {\n",
    "            0: 'batch'\n",
    "        },\n",
    "        'output': {\n",
    "            0: 'batch'\n",
    "        }\n",
    "    }\n",
    ")"
   ],
   "metadata": {
    "collapsed": false
   }
  },
  {
   "cell_type": "markdown",
   "source": [
    "### 验证onnx转换结果"
   ],
   "metadata": {
    "collapsed": false
   }
  },
  {
   "cell_type": "code",
   "execution_count": 62,
   "outputs": [],
   "source": [
    "import onnx\n",
    "\n",
    "model_onnx = onnx.load(onnx_file)\n",
    "onnx.checker.check_model(model_onnx)"
   ],
   "metadata": {
    "collapsed": false
   }
  },
  {
   "cell_type": "markdown",
   "source": [
    "### Simplify"
   ],
   "metadata": {
    "collapsed": false
   }
  },
  {
   "cell_type": "code",
   "execution_count": 63,
   "outputs": [],
   "source": [
    "import onnxsim\n",
    "\n",
    "model_onnx, check = onnxsim.simplify(model_onnx)\n",
    "assert check, 'assert check failed'\n",
    "onnx_file = './tensorrt_custom_operator_simplified.onnx'\n",
    "onnx.save(model_onnx, onnx_file)"
   ],
   "metadata": {
    "collapsed": false
   }
  },
  {
   "cell_type": "markdown",
   "source": [
    "### 转TensorRT"
   ],
   "metadata": {
    "collapsed": false
   }
  },
  {
   "cell_type": "code",
   "execution_count": null,
   "outputs": [],
   "source": [
    "# !git clone https://github.com/NVIDIA-AI-IOT/torch2trt\n",
    "# !cd torch2trt\n",
    "# !python setup.py install\n",
    "\n",
    "import tensorrt as trt\n",
    "from torch2trt import torch2trt\n",
    "\n",
    "\n",
    "\n"
   ],
   "metadata": {
    "collapsed": false
   }
  }
 ],
 "metadata": {
  "kernelspec": {
   "display_name": "Python 3",
   "language": "python",
   "name": "python3"
  },
  "language_info": {
   "codemirror_mode": {
    "name": "ipython",
    "version": 2
   },
   "file_extension": ".py",
   "mimetype": "text/x-python",
   "name": "python",
   "nbconvert_exporter": "python",
   "pygments_lexer": "ipython2",
   "version": "2.7.6"
  }
 },
 "nbformat": 4,
 "nbformat_minor": 0
}
